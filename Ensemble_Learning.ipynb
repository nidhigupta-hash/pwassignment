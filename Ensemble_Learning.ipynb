{
  "nbformat": 4,
  "nbformat_minor": 0,
  "metadata": {
    "colab": {
      "provenance": []
    },
    "kernelspec": {
      "name": "python3",
      "display_name": "Python 3"
    },
    "language_info": {
      "name": "python"
    }
  },
  "cells": [
    {
      "cell_type": "markdown",
      "source": [
        "# Theoretical"
      ],
      "metadata": {
        "id": "NxOt8GG4GJCk"
      }
    },
    {
      "cell_type": "markdown",
      "source": [
        "Q1] Can we use Bagging for regression problems?\n",
        "\n",
        "Yes, Bagging can be used for regression problems.\n",
        "\n",
        "How it works: Instead of aggregating predictions via voting (as in classification), Bagging for regression averages the predictions of multiple base models (e.g., Decision Trees).\n",
        "\n",
        "Example: A Bagging Regressor trains multiple regression models on different bootstrap samples and combines their outputs by taking the mean.\n",
        "\n",
        "Purpose: Reduces variance and improves generalization.\n",
        "\n"
      ],
      "metadata": {
        "id": "1xeqZq22GNUJ"
      }
    },
    {
      "cell_type": "markdown",
      "source": [
        "2] What is the difference between multiple model training and single model training?\n",
        "\n",
        "Single Model Training:\n",
        "\n",
        "Uses one model (e.g., a single Decision Tree).\n",
        "\n",
        "Prone to overfitting (high variance) or underfitting (high bias).\n",
        "\n",
        "Multiple Model Training (Ensemble):\n",
        "\n",
        "Combines multiple models (e.g., Random Forest = many Decision Trees).\n",
        "\n",
        "Reduces variance (Bagging) or bias (Boosting).\n",
        "\n",
        "More robust and generalizable.\n",
        "\n"
      ],
      "metadata": {
        "id": "Hb_zv-mSy2Yq"
      }
    },
    {
      "cell_type": "markdown",
      "source": [
        "3] Explain the concept of feature randomness in Random Forest\n",
        "\n",
        "Feature Randomness means that each tree in a Random Forest is trained on a random subset of features (not just data points).\n",
        "\n",
        "Why?\n",
        "\n",
        "Prevents trees from being too similar (reduces correlation).\n",
        "\n",
        "Ensures diversity in predictions, improving generalization.\n",
        "\n",
        "How?\n",
        "\n",
        "At each split, only a random subset of features (max_features parameter) is considered."
      ],
      "metadata": {
        "id": "zzOR5m0iy8vP"
      }
    },
    {
      "cell_type": "markdown",
      "source": [
        "4] What is OOB (Out-of-Bag) Score?\n",
        "\n",
        "Definition: Evaluation metric for Bagging models (like Random Forest) without needing a separate validation set.\n",
        "\n",
        "How it works:\n",
        "\n",
        "Since Bagging uses bootstrap sampling (~63% of data per model), the remaining ~37% (OOB samples) can be used for validation.\n",
        "\n",
        "The OOB score is the average prediction error on these unseen samples.\n",
        "\n",
        "Advantage: Efficient cross-validation without extra data splitting.\n",
        "\n"
      ],
      "metadata": {
        "id": "pH3ZTkIH2OXe"
      }
    },
    {
      "cell_type": "markdown",
      "source": [
        "5] How can you measure the importance of features in a Random Forest model?\n",
        "\n",
        "Feature Importance is calculated in two ways:\n",
        "\n",
        "Mean Decrease in Impurity (MDI):\n",
        "\n",
        "Measures how much a feature reduces impurity (Gini/entropy for classification, variance for regression) across all trees.\n",
        "\n",
        "Permutation Importance:\n",
        "\n",
        "Shuffles a feature’s values and measures the drop in model accuracy.\n",
        "\n",
        "Output: A score per feature (higher = more important)."
      ],
      "metadata": {
        "id": "OGWslUM22S0c"
      }
    },
    {
      "cell_type": "markdown",
      "source": [
        "6] Explain the working principle of a Bagging Classifier\n",
        "\n",
        "Bootstrap Sampling: Creates multiple datasets by randomly sampling with replacement.\n",
        "\n",
        "Parallel Training: Trains a base classifier (e.g., Decision Tree) on each sample.\n",
        "\n",
        "Aggregation (Voting): For prediction, combines outputs via majority voting (classification) or averaging (regression).\n",
        "\n",
        "Goal: Reduces variance and overfitting.\n",
        "\n"
      ],
      "metadata": {
        "id": "uAGo1uT32W7U"
      }
    },
    {
      "cell_type": "markdown",
      "source": [
        "7] How do you evaluate a Bagging Classifier’s performance?\n",
        "\n",
        "Metrics:\n",
        "\n",
        "Accuracy, Precision, Recall, F1-Score (for classification).\n",
        "\n",
        "Confusion Matrix (for class-wise performance).\n",
        "\n",
        "OOB Score (if available).\n",
        "\n",
        "Cross-Validation: K-fold CV to ensure robustness."
      ],
      "metadata": {
        "id": "aLFr39zF24-z"
      }
    },
    {
      "cell_type": "markdown",
      "source": [
        "8] How does a Bagging Regressor work?\n",
        "\n",
        "Bootstrap Sampling: Creates multiple subsets of training data.\n",
        "\n",
        "Model Training: Fits a base regressor (e.g., Decision Tree) on each subset.\n",
        "\n",
        "Prediction Aggregation: Averages predictions from all models.\n",
        "\n",
        "Effect: Reduces variance, improves stability."
      ],
      "metadata": {
        "id": "oYYt5uN_28yT"
      }
    },
    {
      "cell_type": "markdown",
      "source": [
        "9] What is the main advantage of ensemble techniques?\n",
        "\n",
        "Improved Accuracy & Robustness:\n",
        "\n",
        "Combines weak learners to form a strong learner.\n",
        "\n",
        "Reduces variance (Bagging) or bias (Boosting).\n",
        "\n",
        "Less prone to overfitting than single models.\n",
        "\n"
      ],
      "metadata": {
        "id": "HgP3H1Dj3AYc"
      }
    },
    {
      "cell_type": "markdown",
      "source": [
        "10] What is the main challenge of ensemble methods?\n",
        "Computational Cost:\n",
        "\n",
        "Training multiple models increases time and memory usage.\n",
        "\n",
        "Complexity:\n",
        "\n",
        "Harder to interpret than single models (e.g., a single Decision Tree).\n",
        "\n"
      ],
      "metadata": {
        "id": "i7gjRLJ23Dej"
      }
    },
    {
      "cell_type": "markdown",
      "source": [
        "11] Explain the key idea behind ensemble techniques?\n",
        "\"Wisdom of Crowds\": Combining multiple models leads to better performance than any single model.\n",
        "\n",
        "Types:\n",
        "\n",
        "Bagging: Parallel training, reduces variance (e.g., Random Forest).\n",
        "\n",
        "Boosting: Sequential training, reduces bias (e.g., AdaBoost).\n",
        "\n",
        "Stacking: Combines models via meta-learner."
      ],
      "metadata": {
        "id": "TQ-kWheR-Ce0"
      }
    },
    {
      "cell_type": "markdown",
      "source": [
        "12] What is a Random Forest Classifier?\n",
        "Definition: An ensemble of Decision Trees using Bagging + Feature Randomness.\n",
        "\n",
        "How it works:\n",
        "\n",
        "Each tree is trained on a random data subset (bootstrap).\n",
        "\n",
        "Each split considers a random feature subset.\n",
        "\n",
        "Output: Majority vote (classification) or average (regression)."
      ],
      "metadata": {
        "id": "RvTXUban-LJL"
      }
    },
    {
      "cell_type": "markdown",
      "source": [
        "13] What are the main types of ensemble techniques?\n",
        "\n",
        "Bagging (Parallel, reduces variance) → Random Forest.\n",
        "\n",
        "Boosting (Sequential, reduces bias) → AdaBoost, Gradient Boosting.\n",
        "\n",
        "Stacking (Meta-model combines predictions)."
      ],
      "metadata": {
        "id": "PO4q01WT-QIL"
      }
    },
    {
      "cell_type": "markdown",
      "source": [
        "14] What is ensemble learning in machine learning?\n",
        "\n",
        "Definition: Combining multiple models to improve performance.\n",
        "\n",
        "Why? Single models may have high bias/variance; ensembles balance errors."
      ],
      "metadata": {
        "id": "3GZhW2NQ-Swq"
      }
    },
    {
      "cell_type": "markdown",
      "source": [
        "15] When should we avoid using ensemble methods?\n",
        "\n",
        "When:\n",
        "\n",
        "Data is very small (ensembles need sufficient samples).\n",
        "\n",
        "Interpretability is critical (single Decision Tree is simpler).\n",
        "\n",
        "Low computational resources (ensembles are expensive)."
      ],
      "metadata": {
        "id": "Aqw1fLKq-V3b"
      }
    },
    {
      "cell_type": "markdown",
      "source": [
        "16] How does Bagging help in reducing overfitting?\n",
        "\n",
        "Averaging Effect: Multiple models cancel out individual errors.\n",
        "\n",
        "Diversity: Bootstrap sampling ensures different subsets, reducing reliance on noise.\n",
        "\n"
      ],
      "metadata": {
        "id": "Ww5rUbUN-YV-"
      }
    },
    {
      "cell_type": "markdown",
      "source": [
        "17] Why is Random Forest better than a single Decision Tree?\n",
        "\n",
        "Less Overfitting: Aggregating trees reduces variance.\n",
        "\n",
        "Feature Importance: Provides insights into key features.\n",
        "\n",
        "Robustness: Handles noise and outliers better.\n",
        "\n"
      ],
      "metadata": {
        "id": "Hl854KeV-adq"
      }
    },
    {
      "cell_type": "markdown",
      "source": [
        "18] What is the role of bootstrap sampling in Bagging?\n",
        "\n",
        "Creates Diversity: Each model sees a different data subset.\n",
        "\n",
        "Enables OOB Evaluation: Unseen samples act as validation.\n",
        "\n"
      ],
      "metadata": {
        "id": "M7Fft4SR-dRS"
      }
    },
    {
      "cell_type": "markdown",
      "source": [
        "19] What are some real-world applications of ensemble techniques?\n",
        "\n",
        "Finance: Credit scoring (Random Forest).\n",
        "\n",
        "Healthcare: Disease prediction (XGBoost).\n",
        "\n",
        "Marketing: Customer churn (AdaBoost)."
      ],
      "metadata": {
        "id": "nZq-n_Hr-fbz"
      }
    },
    {
      "cell_type": "markdown",
      "source": [
        "20] What is the difference between Bagging and Boosting?\n",
        "\n",
        "Bagging and Boosting are both ensemble learning techniques in machine learning that combine the predictions of multiple base models to improve accuracy and reduce variance or bias. However, they differ significantly in how they build and combine models.\n",
        "\n",
        "How They Work\n",
        "\n",
        "Bagging (e.g., Random Forest)\n",
        "\n",
        "Process:\n",
        "\n",
        "Create multiple bootstrap samples (random sampling with replacement).\n",
        "\n",
        "Train an independent model on each sample.\n",
        "\n",
        "Combine predictions (majority vote for classification, average for regression).\n",
        "\n",
        "Models are trained independently.\n",
        "\n",
        "Focus: Reduce overfitting by averaging.\n",
        "\n",
        "Boosting (e.g., AdaBoost, Gradient Boosting, XGBoost)\n",
        "\n",
        "Process:\n",
        "\n",
        "Train the first model on the dataset.\n",
        "\n",
        "Evaluate errors and give more weight to misclassified samples.\n",
        "\n",
        "Train the next model focusing more on previous errors.\n",
        "\n",
        "Repeat and combine all models with weights.\n",
        "\n",
        "Models are trained sequentially.\n",
        "\n",
        "Focus: Reduce bias by correcting mistakes step by step.\n",
        "\n",
        "\n",
        "![image.png](data:image/png;base64,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)\n",
        "\n"
      ],
      "metadata": {
        "id": "MWMTaf69-jEi"
      }
    },
    {
      "cell_type": "markdown",
      "source": [
        "# Practical"
      ],
      "metadata": {
        "id": "V5k6ycYO_KNf"
      }
    },
    {
      "cell_type": "code",
      "source": [
        "#21] Train a Bagging Classifier using Decision Trees on a sample dataset and print model accuracy.\n",
        "\n",
        "from sklearn.datasets import load_iris\n",
        "from sklearn.ensemble import BaggingClassifier\n",
        "from sklearn.tree import DecisionTreeClassifier\n",
        "from sklearn.model_selection import train_test_split\n",
        "from sklearn.metrics import accuracy_score\n",
        "\n",
        "\n",
        "data = load_iris()\n",
        "X, y = data.data, data.target\n",
        "\n",
        "X_train, X_test, y_train, y_test = train_test_split(X, y, test_size=0.3, random_state=42)\n",
        "\n",
        "\n",
        "bagging_clf = BaggingClassifier(\n",
        "    estimator=DecisionTreeClassifier(),\n",
        "    n_estimators=50,\n",
        "    random_state=42\n",
        ")\n",
        "bagging_clf.fit(X_train, y_train)\n",
        "\n",
        "y_pred = bagging_clf.predict(X_test)\n",
        "accuracy = accuracy_score(y_test, y_pred)\n",
        "print(f\"Bagging Classifier Accuracy: {accuracy:.4f}\")"
      ],
      "metadata": {
        "colab": {
          "base_uri": "https://localhost:8080/"
        },
        "id": "DdDYBEv7_Mmi",
        "outputId": "98d3c58b-880d-4696-c567-7cbe4287c9d0"
      },
      "execution_count": 2,
      "outputs": [
        {
          "output_type": "stream",
          "name": "stdout",
          "text": [
            "Bagging Classifier Accuracy: 1.0000\n"
          ]
        }
      ]
    },
    {
      "cell_type": "code",
      "source": [
        "# 22] Train a Bagging Regressor using Decision Trees and evaluate using Mean Squared Error (MSE).\n",
        "from sklearn.datasets import load_diabetes\n",
        "from sklearn.ensemble import BaggingRegressor\n",
        "from sklearn.tree import DecisionTreeRegressor\n",
        "from sklearn.model_selection import train_test_split\n",
        "from sklearn.metrics import mean_squared_error\n",
        "\n",
        "data = load_diabetes()\n",
        "X, y = data.data, data.target\n",
        "\n",
        "X_train, X_test, y_train, y_test = train_test_split(X, y, test_size=0.3, random_state=42)\n",
        "\n",
        "\n",
        "bagging_reg = BaggingRegressor(\n",
        "    estimator=DecisionTreeRegressor(),\n",
        "    n_estimators=50,\n",
        "    random_state=42\n",
        ")\n",
        "bagging_reg.fit(X_train, y_train)\n",
        "\n",
        "y_pred = bagging_reg.predict(X_test)\n",
        "mse = mean_squared_error(y_test, y_pred)\n",
        "print(f\"Bagging Regressor MSE: {mse:.4f}\")"
      ],
      "metadata": {
        "colab": {
          "base_uri": "https://localhost:8080/"
        },
        "id": "bz1sqN5r_xLq",
        "outputId": "2f0b005d-6e40-486c-afac-e9f599d8700a"
      },
      "execution_count": 5,
      "outputs": [
        {
          "output_type": "stream",
          "name": "stdout",
          "text": [
            "Bagging Regressor MSE: 2987.0074\n"
          ]
        }
      ]
    },
    {
      "cell_type": "code",
      "source": [
        "# 23] Train a Random Forest Classifier on the Breast Cancer dataset and print feature importance scores.\n",
        "\n",
        "from sklearn.datasets import load_breast_cancer\n",
        "from sklearn.ensemble import RandomForestClassifier\n",
        "import pandas as pd\n",
        "\n",
        "data = load_breast_cancer()\n",
        "X, y = data.data, data.target\n",
        "features = data.feature_names\n",
        "\n",
        "rf_clf = RandomForestClassifier(n_estimators=100, random_state=42)\n",
        "rf_clf.fit(X, y)\n",
        "\n",
        "importance = pd.DataFrame({\n",
        "    'Feature': features,\n",
        "    'Importance': rf_clf.feature_importances_\n",
        "}).sort_values('Importance', ascending=False)\n",
        "\n",
        "print(\"Feature Importance Scores:\")\n",
        "print(importance)"
      ],
      "metadata": {
        "colab": {
          "base_uri": "https://localhost:8080/"
        },
        "id": "VCMyhzc4_42Q",
        "outputId": "e5d05699-d4e2-440f-a297-eb02da5ca854"
      },
      "execution_count": 7,
      "outputs": [
        {
          "output_type": "stream",
          "name": "stdout",
          "text": [
            "Feature Importance Scores:\n",
            "                    Feature  Importance\n",
            "23               worst area    0.139357\n",
            "27     worst concave points    0.132225\n",
            "7       mean concave points    0.107046\n",
            "20             worst radius    0.082848\n",
            "22          worst perimeter    0.080850\n",
            "2            mean perimeter    0.067990\n",
            "6            mean concavity    0.066917\n",
            "3                 mean area    0.060462\n",
            "26          worst concavity    0.037339\n",
            "0               mean radius    0.034843\n",
            "13               area error    0.029553\n",
            "25        worst compactness    0.019864\n",
            "21            worst texture    0.017485\n",
            "1              mean texture    0.015225\n",
            "10             radius error    0.014264\n",
            "24         worst smoothness    0.012232\n",
            "5          mean compactness    0.011597\n",
            "12          perimeter error    0.010085\n",
            "28           worst symmetry    0.008179\n",
            "4           mean smoothness    0.007958\n",
            "19  fractal dimension error    0.005942\n",
            "16          concavity error    0.005820\n",
            "15        compactness error    0.005612\n",
            "14         smoothness error    0.004722\n",
            "29  worst fractal dimension    0.004497\n",
            "17     concave points error    0.003760\n",
            "11            texture error    0.003744\n",
            "18           symmetry error    0.003546\n",
            "8             mean symmetry    0.003423\n",
            "9    mean fractal dimension    0.002615\n"
          ]
        }
      ]
    },
    {
      "cell_type": "code",
      "source": [
        "# 24] Train a Random Forest Regressor and compare its performance with a single Decision Tree.\n",
        "\n",
        "from sklearn.datasets import load_diabetes\n",
        "from sklearn.ensemble import RandomForestRegressor\n",
        "from sklearn.tree import DecisionTreeRegressor\n",
        "from sklearn.metrics import mean_squared_error\n",
        "\n",
        "\n",
        "data = load_diabetes()\n",
        "X, y = data.data, data.target\n",
        "\n",
        "X_train, X_test, y_train, y_test = train_test_split(X, y, test_size=0.3, random_state=42)\n",
        "\n",
        "\n",
        "rf_reg = RandomForestRegressor(n_estimators=100, random_state=42)\n",
        "rf_reg.fit(X_train, y_train)\n",
        "rf_mse = mean_squared_error(y_test, rf_reg.predict(X_test))\n",
        "\n",
        "\n",
        "dt_reg = DecisionTreeRegressor(random_state=42)\n",
        "dt_reg.fit(X_train, y_train)\n",
        "dt_mse = mean_squared_error(y_test, dt_reg.predict(X_test))\n",
        "\n",
        "print(f\"Random Forest MSE: {rf_mse:.4f}\")\n",
        "print(f\"Single Decision Tree MSE: {dt_mse:.4f}\")"
      ],
      "metadata": {
        "colab": {
          "base_uri": "https://localhost:8080/"
        },
        "id": "dR6bPgCRAOq3",
        "outputId": "54288b67-4dee-4b6c-9623-a5f60de89fde"
      },
      "execution_count": 8,
      "outputs": [
        {
          "output_type": "stream",
          "name": "stdout",
          "text": [
            "Random Forest MSE: 2859.6420\n",
            "Single Decision Tree MSE: 5697.7895\n"
          ]
        }
      ]
    },
    {
      "cell_type": "code",
      "source": [
        "#25] Compute the Out-of-Bag (OOB) Score for a Random Forest Classifier.\n",
        "\n",
        "from sklearn.datasets import load_iris\n",
        "from sklearn.ensemble import RandomForestClassifier\n",
        "\n",
        "data = load_iris()\n",
        "X, y = data.data, data.target\n",
        "\n",
        "rf_clf = RandomForestClassifier(\n",
        "    n_estimators=100,\n",
        "    oob_score=True,\n",
        "    random_state=42\n",
        ")\n",
        "rf_clf.fit(X, y)\n",
        "\n",
        "print(f\"OOB Score: {rf_clf.oob_score_:.4f}\")"
      ],
      "metadata": {
        "colab": {
          "base_uri": "https://localhost:8080/"
        },
        "id": "Z5F-VkYvAnmA",
        "outputId": "0c62d6a0-ada9-4c62-fded-6b6a7049db93"
      },
      "execution_count": 9,
      "outputs": [
        {
          "output_type": "stream",
          "name": "stdout",
          "text": [
            "OOB Score: 0.9533\n"
          ]
        }
      ]
    },
    {
      "cell_type": "code",
      "source": [
        "# 26] Train a Bagging Classifier using SVM as a base estimator and print accuracy.\n",
        "\n",
        "from sklearn.datasets import load_iris\n",
        "from sklearn.ensemble import BaggingClassifier\n",
        "from sklearn.svm import SVC\n",
        "from sklearn.model_selection import train_test_split\n",
        "from sklearn.metrics import accuracy_score\n",
        "\n",
        "\n",
        "data = load_iris()\n",
        "X, y = data.data, data.target\n",
        "\n",
        "\n",
        "X_train, X_test, y_train, y_test = train_test_split(X, y, test_size=0.3, random_state=42)\n",
        "\n",
        "bagging_svm = BaggingClassifier(\n",
        "    estimator=SVC(probability=True),\n",
        "    n_estimators=50,\n",
        "    random_state=42\n",
        ")\n",
        "bagging_svm.fit(X_train, y_train)\n",
        "\n",
        "y_pred = bagging_svm.predict(X_test)\n",
        "accuracy = accuracy_score(y_test, y_pred)\n",
        "print(f\"Bagging (SVM) Accuracy: {accuracy:.4f}\")"
      ],
      "metadata": {
        "colab": {
          "base_uri": "https://localhost:8080/"
        },
        "id": "Nxf3-mbqA475",
        "outputId": "4d7aeea6-40fd-41da-d840-2ebc3e3197dd"
      },
      "execution_count": 11,
      "outputs": [
        {
          "output_type": "stream",
          "name": "stdout",
          "text": [
            "Bagging (SVM) Accuracy: 1.0000\n"
          ]
        }
      ]
    },
    {
      "cell_type": "code",
      "source": [
        "# 27] Train a Random Forest Classifier with different numbers of trees and compare accuracy\n",
        "\n",
        "from sklearn.datasets import load_iris\n",
        "from sklearn.ensemble import RandomForestClassifier\n",
        "from sklearn.model_selection import train_test_split\n",
        "from sklearn.metrics import accuracy_score\n",
        "\n",
        "X, y = load_iris(return_X_y=True)\n",
        "X_train, X_test, y_train, y_test = train_test_split(X, y, test_size=0.3, random_state=42)\n",
        "\n",
        "n_trees = [1, 5, 10, 50, 100]\n",
        "accuracies = []\n",
        "\n",
        "for n in n_trees:\n",
        "    model = RandomForestClassifier(n_estimators=n, random_state=42)\n",
        "    model.fit(X_train, y_train)\n",
        "    y_pred = model.predict(X_test)\n",
        "    acc = accuracy_score(y_test, y_pred)\n",
        "    accuracies.append(acc)\n",
        "    print(f\"n_estimators={n}, Accuracy={acc:.4f}\")\n"
      ],
      "metadata": {
        "colab": {
          "base_uri": "https://localhost:8080/"
        },
        "id": "hy2AB3wVBWdA",
        "outputId": "d278d909-7975-4847-c5fb-7441e960c735"
      },
      "execution_count": 13,
      "outputs": [
        {
          "output_type": "stream",
          "name": "stdout",
          "text": [
            "n_estimators=1, Accuracy=1.0000\n",
            "n_estimators=5, Accuracy=1.0000\n",
            "n_estimators=10, Accuracy=1.0000\n",
            "n_estimators=50, Accuracy=1.0000\n",
            "n_estimators=100, Accuracy=1.0000\n"
          ]
        }
      ]
    },
    {
      "cell_type": "code",
      "source": [
        "# 28] Train a Bagging Classifier using Logistic Regression as a base estimator and print AUC score\n",
        "\n",
        "from sklearn.ensemble import BaggingClassifier\n",
        "from sklearn.linear_model import LogisticRegression\n",
        "from sklearn.metrics import roc_auc_score\n",
        "from sklearn.datasets import make_classification\n",
        "\n",
        "X, y = make_classification(n_samples=1000, n_features=20, n_classes=2, random_state=42)\n",
        "X_train, X_test, y_train, y_test = train_test_split(X, y, test_size=0.3, random_state=42)\n",
        "\n",
        "base_model = LogisticRegression(solver='liblinear')\n",
        "bagging = BaggingClassifier(estimator=base_model, n_estimators=50, random_state=42)\n",
        "bagging.fit(X_train, y_train)\n",
        "y_proba = bagging.predict_proba(X_test)[:, 1]\n",
        "auc_score = roc_auc_score(y_test, y_proba)\n",
        "print(f\"AUC Score = {auc_score:.4f}\")\n"
      ],
      "metadata": {
        "colab": {
          "base_uri": "https://localhost:8080/"
        },
        "id": "MUfHYumcBp5y",
        "outputId": "35f261d1-7539-41da-e655-4f30159aa9cd"
      },
      "execution_count": 15,
      "outputs": [
        {
          "output_type": "stream",
          "name": "stdout",
          "text": [
            "AUC Score = 0.9143\n"
          ]
        }
      ]
    },
    {
      "cell_type": "code",
      "source": [
        "# 29] Train a Random Forest Regressor and analyze feature importance scores\n",
        "\n",
        "from sklearn.ensemble import RandomForestRegressor\n",
        "from sklearn.datasets import fetch_california_housing\n",
        "import pandas as pd\n",
        "\n",
        "X, y = fetch_california_housing(return_X_y=True)\n",
        "X_train, X_test, y_train, y_test = train_test_split(X, y, test_size=0.3, random_state=42)\n",
        "\n",
        "model = RandomForestRegressor(n_estimators=100, random_state=42)\n",
        "model.fit(X_train, y_train)\n",
        "\n",
        "importances = model.feature_importances_\n",
        "features = fetch_california_housing().feature_names\n",
        "importance_df = pd.DataFrame({'Feature': features, 'Importance': importances})\n",
        "importance_df = importance_df.sort_values(by='Importance', ascending=False)\n",
        "print(importance_df)\n"
      ],
      "metadata": {
        "colab": {
          "base_uri": "https://localhost:8080/"
        },
        "id": "TdHDprF9CPrH",
        "outputId": "27903253-36bb-4908-a637-1f625aa3d4e4"
      },
      "execution_count": 17,
      "outputs": [
        {
          "output_type": "stream",
          "name": "stdout",
          "text": [
            "      Feature  Importance\n",
            "0      MedInc    0.526011\n",
            "5    AveOccup    0.138220\n",
            "7   Longitude    0.086124\n",
            "6    Latitude    0.086086\n",
            "1    HouseAge    0.054654\n",
            "2    AveRooms    0.047188\n",
            "4  Population    0.031722\n",
            "3   AveBedrms    0.029995\n"
          ]
        }
      ]
    },
    {
      "cell_type": "code",
      "source": [
        "# 30] Train an ensemble model using both Bagging and Random Forest and compare accuracy\n",
        "\n",
        "from sklearn.ensemble import BaggingClassifier\n",
        "from sklearn.ensemble import RandomForestClassifier\n",
        "from sklearn.datasets import make_classification\n",
        "\n",
        "X, y = make_classification(n_samples=1000, n_features=20, n_classes=2, random_state=42)\n",
        "X_train, X_test, y_train, y_test = train_test_split(X, y, test_size=0.3, random_state=42)\n",
        "\n",
        "bagging_model = BaggingClassifier(n_estimators=50, random_state=42)\n",
        "rf_model = RandomForestClassifier(n_estimators=50, random_state=42)\n",
        "\n",
        "bagging_model.fit(X_train, y_train)\n",
        "rf_model.fit(X_train, y_train)\n",
        "\n",
        "bagging_acc = bagging_model.score(X_test, y_test)\n",
        "rf_acc = rf_model.score(X_test, y_test)\n",
        "\n",
        "print(f\"Bagging Accuracy: {bagging_acc:.4f}\")\n",
        "print(f\"Random Forest Accuracy: {rf_acc:.4f}\")\n"
      ],
      "metadata": {
        "colab": {
          "base_uri": "https://localhost:8080/"
        },
        "id": "BwnvhpqfCpGv",
        "outputId": "0e36c30e-8777-4422-f231-ab0b5f6f2e94"
      },
      "execution_count": 18,
      "outputs": [
        {
          "output_type": "stream",
          "name": "stdout",
          "text": [
            "Bagging Accuracy: 0.8700\n",
            "Random Forest Accuracy: 0.8500\n"
          ]
        }
      ]
    },
    {
      "cell_type": "code",
      "source": [
        "# 31. Train a Random Forest Classifier and tune hyperparameters using GridSearchCV\n",
        "\n",
        "from sklearn.datasets import load_iris\n",
        "from sklearn.ensemble import RandomForestClassifier\n",
        "from sklearn.model_selection import GridSearchCV, train_test_split\n",
        "from sklearn.metrics import accuracy_score\n",
        "\n",
        "data = load_iris()\n",
        "X_train, X_test, y_train, y_test = train_test_split(data.data, data.target, test_size=0.2, random_state=42)\n",
        "\n",
        "param_grid = {\n",
        "    'n_estimators': [50, 100],\n",
        "    'max_depth': [2, 4, 6],\n",
        "    'criterion': ['gini', 'entropy']\n",
        "}\n",
        "\n",
        "clf = RandomForestClassifier(random_state=42)\n",
        "grid = GridSearchCV(clf, param_grid, cv=5)\n",
        "grid.fit(X_train, y_train)\n",
        "\n",
        "best_model = grid.best_estimator_\n",
        "y_pred = best_model.predict(X_test)\n",
        "\n",
        "print(\"Best Parameters:\", grid.best_params_)\n",
        "print(\"Accuracy:\", accuracy_score(y_test, y_pred))\n"
      ],
      "metadata": {
        "colab": {
          "base_uri": "https://localhost:8080/"
        },
        "id": "sWviPN7qNojk",
        "outputId": "3be8a790-79a6-4b94-8866-180752177f96"
      },
      "execution_count": 19,
      "outputs": [
        {
          "output_type": "stream",
          "name": "stdout",
          "text": [
            "Best Parameters: {'criterion': 'gini', 'max_depth': 4, 'n_estimators': 50}\n",
            "Accuracy: 1.0\n"
          ]
        }
      ]
    },
    {
      "cell_type": "code",
      "source": [
        "# 32. Train a Bagging Regressor with different numbers of base estimators and compare performance\n",
        "\n",
        "from sklearn.datasets import load_diabetes\n",
        "from sklearn.ensemble import BaggingRegressor\n",
        "from sklearn.tree import DecisionTreeRegressor\n",
        "from sklearn.model_selection import train_test_split\n",
        "from sklearn.metrics import mean_squared_error\n",
        "\n",
        "data = load_diabetes()\n",
        "X_train, X_test, y_train, y_test = train_test_split(data.data, data.target, test_size=0.2, random_state=42)\n",
        "\n",
        "for n in [10, 50, 100]:\n",
        "    model = BaggingRegressor(estimator=DecisionTreeRegressor(), n_estimators=n, random_state=42)\n",
        "    model.fit(X_train, y_train)\n",
        "    preds = model.predict(X_test)\n",
        "    mse = mean_squared_error(y_test, preds)\n",
        "    print(f\"Estimators: {n}, MSE: {mse:.2f}\")\n"
      ],
      "metadata": {
        "colab": {
          "base_uri": "https://localhost:8080/"
        },
        "id": "vWAYSD4lNoh3",
        "outputId": "9be1d5bc-6307-4bfd-f0ee-af2a4c2074e1"
      },
      "execution_count": 21,
      "outputs": [
        {
          "output_type": "stream",
          "name": "stdout",
          "text": [
            "Estimators: 10, MSE: 3256.96\n",
            "Estimators: 50, MSE: 3056.49\n",
            "Estimators: 100, MSE: 2970.86\n"
          ]
        }
      ]
    },
    {
      "cell_type": "code",
      "source": [
        "# 33. Train a Random Forest Classifier and analyze misclassified samples\n",
        "\n",
        "from sklearn.datasets import load_wine\n",
        "from sklearn.ensemble import RandomForestClassifier\n",
        "from sklearn.model_selection import train_test_split\n",
        "from sklearn.metrics import classification_report\n",
        "\n",
        "data = load_wine()\n",
        "X_train, X_test, y_train, y_test = train_test_split(data.data, data.target, test_size=0.2, random_state=42)\n",
        "\n",
        "model = RandomForestClassifier(random_state=42)\n",
        "model.fit(X_train, y_train)\n",
        "y_pred = model.predict(X_test)\n",
        "\n",
        "print(classification_report(y_test, y_pred))\n",
        "\n",
        "for i in range(len(y_test)):\n",
        "    if y_test[i] != y_pred[i]:\n",
        "        print(f\"Index: {i}, Actual: {y_test[i]}, Predicted: {y_pred[i]}\")\n"
      ],
      "metadata": {
        "colab": {
          "base_uri": "https://localhost:8080/"
        },
        "id": "gR8wUYCpVPDI",
        "outputId": "7da317c2-be75-4d9c-9d4a-7af1a141f169"
      },
      "execution_count": 22,
      "outputs": [
        {
          "output_type": "stream",
          "name": "stdout",
          "text": [
            "              precision    recall  f1-score   support\n",
            "\n",
            "           0       1.00      1.00      1.00        14\n",
            "           1       1.00      1.00      1.00        14\n",
            "           2       1.00      1.00      1.00         8\n",
            "\n",
            "    accuracy                           1.00        36\n",
            "   macro avg       1.00      1.00      1.00        36\n",
            "weighted avg       1.00      1.00      1.00        36\n",
            "\n"
          ]
        }
      ]
    },
    {
      "cell_type": "code",
      "source": [
        "# 34. Train a Bagging Classifier and compare its performance with a single Decision Tree Classifier\n",
        "\n",
        "from sklearn.datasets import load_iris\n",
        "from sklearn.ensemble import BaggingClassifier\n",
        "from sklearn.tree import DecisionTreeClassifier\n",
        "from sklearn.model_selection import train_test_split\n",
        "from sklearn.metrics import accuracy_score\n",
        "\n",
        "data = load_iris()\n",
        "X_train, X_test, y_train, y_test = train_test_split(data.data, data.target, test_size=0.2, random_state=42)\n",
        "\n",
        "tree = DecisionTreeClassifier(random_state=42)\n",
        "tree.fit(X_train, y_train)\n",
        "tree_acc = accuracy_score(y_test, tree.predict(X_test))\n",
        "\n",
        "bag = BaggingClassifier(estimator=DecisionTreeClassifier(), n_estimators=50, random_state=42)\n",
        "bag.fit(X_train, y_train)\n",
        "bag_acc = accuracy_score(y_test, bag.predict(X_test))\n",
        "\n",
        "print(\"Decision Tree Accuracy:\", tree_acc)\n",
        "print(\"Bagging Classifier Accuracy:\", bag_acc)\n"
      ],
      "metadata": {
        "colab": {
          "base_uri": "https://localhost:8080/"
        },
        "id": "91hvrrNNVWSH",
        "outputId": "5f34ebcd-40e1-482e-bbc3-3bf39513bd8a"
      },
      "execution_count": 24,
      "outputs": [
        {
          "output_type": "stream",
          "name": "stdout",
          "text": [
            "Decision Tree Accuracy: 1.0\n",
            "Bagging Classifier Accuracy: 1.0\n"
          ]
        }
      ]
    },
    {
      "cell_type": "code",
      "source": [
        "# 35. Train a Random Forest Classifier and visualize the confusion matrix\n",
        "\n",
        "from sklearn.datasets import load_digits\n",
        "from sklearn.ensemble import RandomForestClassifier\n",
        "from sklearn.model_selection import train_test_split\n",
        "from sklearn.metrics import ConfusionMatrixDisplay\n",
        "\n",
        "data = load_digits()\n",
        "X_train, X_test, y_train, y_test = train_test_split(data.data, data.target, test_size=0.2, random_state=42)\n",
        "\n",
        "model = RandomForestClassifier(random_state=42)\n",
        "model.fit(X_train, y_train)\n",
        "ConfusionMatrixDisplay.from_estimator(model, X_test, y_test)\n"
      ],
      "metadata": {
        "colab": {
          "base_uri": "https://localhost:8080/",
          "height": 466
        },
        "id": "p1OnvCFVVeHP",
        "outputId": "8837a693-17bc-40b0-8099-2086cbe0cafe"
      },
      "execution_count": 25,
      "outputs": [
        {
          "output_type": "execute_result",
          "data": {
            "text/plain": [
              "<sklearn.metrics._plot.confusion_matrix.ConfusionMatrixDisplay at 0x7a064d0f8c10>"
            ]
          },
          "metadata": {},
          "execution_count": 25
        },
        {
          "output_type": "display_data",
          "data": {
            "text/plain": [
              "<Figure size 640x480 with 2 Axes>"
            ],
            "image/png": "[encoded data removed]"
          },
          "metadata": {}
        }
      ]
    },
    {
      "cell_type": "code",
      "source": [
        "# 36. Train a Stacking Classifier using Decision Trees, SVM, and Logistic Regression, and compare accuracy\n",
        "\n",
        "from sklearn.datasets import load_iris\n",
        "from sklearn.ensemble import StackingClassifier\n",
        "from sklearn.tree import DecisionTreeClassifier\n",
        "from sklearn.svm import SVC\n",
        "from sklearn.linear_model import LogisticRegression\n",
        "from sklearn.model_selection import train_test_split\n",
        "from sklearn.metrics import accuracy_score\n",
        "\n",
        "data = load_iris()\n",
        "X_train, X_test, y_train, y_test = train_test_split(data.data, data.target, test_size=0.2, random_state=42)\n",
        "\n",
        "base_models = [\n",
        "    ('dt', DecisionTreeClassifier()),\n",
        "    ('svm', SVC(probability=True))\n",
        "]\n",
        "stack = StackingClassifier(estimators=base_models, final_estimator=LogisticRegression())\n",
        "\n",
        "stack.fit(X_train, y_train)\n",
        "y_pred = stack.predict(X_test)\n",
        "print(\"Stacking Classifier Accuracy:\", accuracy_score(y_test, y_pred))\n",
        "\n"
      ],
      "metadata": {
        "colab": {
          "base_uri": "https://localhost:8080/"
        },
        "id": "hbimXdrZVqjv",
        "outputId": "94cd21e6-8b6c-4b1b-cba8-c3f5a73e3623"
      },
      "execution_count": 26,
      "outputs": [
        {
          "output_type": "stream",
          "name": "stdout",
          "text": [
            "Stacking Classifier Accuracy: 1.0\n"
          ]
        }
      ]
    },
    {
      "cell_type": "code",
      "source": [
        "# 37. Train a Random Forest Classifier and print the top 5 most important features\n",
        "\n",
        "from sklearn.datasets import load_breast_cancer\n",
        "from sklearn.ensemble import RandomForestClassifier\n",
        "from sklearn.model_selection import train_test_split\n",
        "import numpy as np\n",
        "\n",
        "data = load_breast_cancer()\n",
        "X_train, X_test, y_train, y_test = train_test_split(data.data, data.target, test_size=0.2, random_state=42)\n",
        "\n",
        "model = RandomForestClassifier(random_state=42)\n",
        "model.fit(X_train, y_train)\n",
        "\n",
        "importances = model.feature_importances_\n",
        "indices = np.argsort(importances)[-5:][::-1]\n",
        "\n",
        "print(\"Top 5 Feature Importances:\")\n",
        "for i in indices:\n",
        "    print(data.feature_names[i], \":\", importances[i])\n",
        "\n"
      ],
      "metadata": {
        "colab": {
          "base_uri": "https://localhost:8080/"
        },
        "id": "BcsMyQYuV7MP",
        "outputId": "ed80ead1-adc8-477e-d0d1-f80090fb9eec"
      },
      "execution_count": 27,
      "outputs": [
        {
          "output_type": "stream",
          "name": "stdout",
          "text": [
            "Top 5 Feature Importances:\n",
            "worst area : 0.15389236463205394\n",
            "worst concave points : 0.14466326620735528\n",
            "mean concave points : 0.10620998844591638\n",
            "worst radius : 0.07798687515738047\n",
            "mean concavity : 0.06800084191430111\n"
          ]
        }
      ]
    },
    {
      "cell_type": "code",
      "source": [
        "# 38. Train a Bagging Classifier and evaluate performance using Precision, Recall, and F1-score\n",
        "\n",
        "from sklearn.datasets import load_wine\n",
        "from sklearn.ensemble import BaggingClassifier\n",
        "from sklearn.tree import DecisionTreeClassifier\n",
        "from sklearn.model_selection import train_test_split\n",
        "from sklearn.metrics import precision_score, recall_score, f1_score\n",
        "\n",
        "data = load_wine()\n",
        "X_train, X_test, y_train, y_test = train_test_split(data.data, data.target, test_size=0.2, random_state=42)\n",
        "\n",
        "model = BaggingClassifier(estimator=DecisionTreeClassifier(), n_estimators=50, random_state=42)\n",
        "model.fit(X_train, y_train)\n",
        "y_pred = model.predict(X_test)\n",
        "\n",
        "print(\"Precision:\", precision_score(y_test, y_pred, average='macro'))\n",
        "print(\"Recall:\", recall_score(y_test, y_pred, average='macro'))\n",
        "print(\"F1 Score:\", f1_score(y_test, y_pred, average='macro'))\n"
      ],
      "metadata": {
        "colab": {
          "base_uri": "https://localhost:8080/"
        },
        "id": "XlWR6v3DWCAX",
        "outputId": "8f120864-3b09-45df-a446-d6436871e9d5"
      },
      "execution_count": 29,
      "outputs": [
        {
          "output_type": "stream",
          "name": "stdout",
          "text": [
            "Precision: 0.9777777777777779\n",
            "Recall: 0.9583333333333334\n",
            "F1 Score: 0.9662835249042147\n"
          ]
        }
      ]
    },
    {
      "cell_type": "code",
      "source": [
        "# 39. Train a Random Forest Classifier and analyze the effect of max_depth on accuracy\n",
        "\n",
        "from sklearn.datasets import load_iris\n",
        "from sklearn.ensemble import RandomForestClassifier\n",
        "from sklearn.model_selection import train_test_split\n",
        "from sklearn.metrics import accuracy_score\n",
        "\n",
        "data = load_iris()\n",
        "X_train, X_test, y_train, y_test = train_test_split(data.data, data.target, test_size=0.2, random_state=42)\n",
        "\n",
        "for depth in [2, 4, 6, 8, None]:\n",
        "    model = RandomForestClassifier(max_depth=depth, random_state=42)\n",
        "    model.fit(X_train, y_train)\n",
        "    acc = accuracy_score(y_test, model.predict(X_test))\n",
        "    print(f\"Max Depth: {depth}, Accuracy: {acc:.2f}\")\n"
      ],
      "metadata": {
        "colab": {
          "base_uri": "https://localhost:8080/"
        },
        "id": "S72V_TwxWK3O",
        "outputId": "3cc4587f-954d-446b-c5f8-4fcb645d7229"
      },
      "execution_count": 30,
      "outputs": [
        {
          "output_type": "stream",
          "name": "stdout",
          "text": [
            "Max Depth: 2, Accuracy: 1.00\n",
            "Max Depth: 4, Accuracy: 1.00\n",
            "Max Depth: 6, Accuracy: 1.00\n",
            "Max Depth: 8, Accuracy: 1.00\n",
            "Max Depth: None, Accuracy: 1.00\n"
          ]
        }
      ]
    },
    {
      "cell_type": "code",
      "source": [
        "# 40. Train a Bagging Regressor using different base estimators (DecisionTree and KNeighbors) and compare performance\n",
        "\n",
        "from sklearn.datasets import load_diabetes\n",
        "from sklearn.ensemble import BaggingRegressor\n",
        "from sklearn.tree import DecisionTreeRegressor\n",
        "from sklearn.neighbors import KNeighborsRegressor\n",
        "from sklearn.model_selection import train_test_split\n",
        "from sklearn.metrics import mean_squared_error\n",
        "\n",
        "data = load_diabetes()\n",
        "X_train, X_test, y_train, y_test = train_test_split(data.data, data.target, test_size=0.2, random_state=42)\n",
        "\n",
        "models = {\n",
        "    \"DecisionTree\": DecisionTreeRegressor(),\n",
        "    \"KNeighbors\": KNeighborsRegressor()\n",
        "}\n",
        "\n",
        "for name, base in models.items():\n",
        "    model = BaggingRegressor(estimator=base, n_estimators=50, random_state=42)\n",
        "    model.fit(X_train, y_train)\n",
        "    preds = model.predict(X_test)\n",
        "    mse = mean_squared_error(y_test, preds)\n",
        "    print(f\"{name} MSE: {mse:.2f}\")\n",
        "\n"
      ],
      "metadata": {
        "colab": {
          "base_uri": "https://localhost:8080/"
        },
        "id": "ZeOddWxnWUZG",
        "outputId": "8ca18379-ecd4-4229-9fcd-c8402531f8e1"
      },
      "execution_count": 32,
      "outputs": [
        {
          "output_type": "stream",
          "name": "stdout",
          "text": [
            "DecisionTree MSE: 3056.49\n",
            "KNeighbors MSE: 2918.78\n"
          ]
        }
      ]
    },
    {
      "cell_type": "code",
      "source": [
        "# 41. Train a Random Forest Classifier and evaluate its performance using ROC-AUC Score\n",
        "\n",
        "from sklearn.datasets import load_breast_cancer\n",
        "from sklearn.ensemble import RandomForestClassifier\n",
        "from sklearn.model_selection import train_test_split\n",
        "from sklearn.metrics import roc_auc_score\n",
        "\n",
        "data = load_breast_cancer()\n",
        "X_train, X_test, y_train, y_test = train_test_split(data.data, data.target, test_size=0.2, random_state=42)\n",
        "\n",
        "model = RandomForestClassifier(random_state=42)\n",
        "model.fit(X_train, y_train)\n",
        "y_proba = model.predict_proba(X_test)[:, 1]\n",
        "\n",
        "roc_auc = roc_auc_score(y_test, y_proba)\n",
        "print(\"ROC-AUC Score:\", roc_auc)\n"
      ],
      "metadata": {
        "colab": {
          "base_uri": "https://localhost:8080/"
        },
        "id": "0g9v81QeWcSP",
        "outputId": "eaa9e1dd-0358-4a3d-f7b8-eceff237c101"
      },
      "execution_count": 33,
      "outputs": [
        {
          "output_type": "stream",
          "name": "stdout",
          "text": [
            "ROC-AUC Score: 0.9952505732066819\n"
          ]
        }
      ]
    },
    {
      "cell_type": "code",
      "source": [
        "# 42. Train a Bagging Classifier and evaluate its performance using cross-validation\n",
        "\n",
        "from sklearn.datasets import load_iris\n",
        "from sklearn.ensemble import BaggingClassifier\n",
        "from sklearn.tree import DecisionTreeClassifier\n",
        "from sklearn.model_selection import cross_val_score\n",
        "\n",
        "data = load_iris()\n",
        "X = data.data\n",
        "y = data.target\n",
        "\n",
        "model = BaggingClassifier(estimator=DecisionTreeClassifier(), n_estimators=50, random_state=42)\n",
        "scores = cross_val_score(model, X, y, cv=5)\n",
        "\n",
        "print(\"Cross-validation scores:\", scores)\n",
        "print(\"Mean Accuracy:\", scores.mean())\n"
      ],
      "metadata": {
        "colab": {
          "base_uri": "https://localhost:8080/"
        },
        "id": "tnXDYYB4W8Re",
        "outputId": "e26a8387-3af0-424b-dadd-7452ff43c021"
      },
      "execution_count": 35,
      "outputs": [
        {
          "output_type": "stream",
          "name": "stdout",
          "text": [
            "Cross-validation scores: [0.96666667 0.96666667 0.93333333 0.96666667 1.        ]\n",
            "Mean Accuracy: 0.9666666666666668\n"
          ]
        }
      ]
    },
    {
      "cell_type": "code",
      "source": [
        "# 43. Train a Random Forest Classifier and plot the Precision-Recall curve\n",
        "\n",
        "from sklearn.datasets import load_breast_cancer\n",
        "from sklearn.ensemble import RandomForestClassifier\n",
        "from sklearn.model_selection import train_test_split\n",
        "from sklearn.metrics import precision_recall_curve, PrecisionRecallDisplay\n",
        "import matplotlib.pyplot as plt\n",
        "\n",
        "data = load_breast_cancer()\n",
        "X_train, X_test, y_train, y_test = train_test_split(data.data, data.target, test_size=0.2, random_state=42)\n",
        "\n",
        "model = RandomForestClassifier(random_state=42)\n",
        "model.fit(X_train, y_train)\n",
        "y_proba = model.predict_proba(X_test)[:, 1]\n",
        "\n",
        "precision, recall, _ = precision_recall_curve(y_test, y_proba)\n",
        "disp = PrecisionRecallDisplay(precision=precision, recall=recall)\n",
        "disp.plot()\n",
        "plt.show()\n"
      ],
      "metadata": {
        "colab": {
          "base_uri": "https://localhost:8080/",
          "height": 451
        },
        "id": "XnXgt1ydXFtV",
        "outputId": "5674a550-971e-4982-b632-8a06bc511740"
      },
      "execution_count": 36,
      "outputs": [
        {
          "output_type": "display_data",
          "data": {
            "text/plain": [
              "<Figure size 640x480 with 1 Axes>"
            ],
            "image/png": "[encoded data removed]"
          },
          "metadata": {}
        }
      ]
    },
    {
      "cell_type": "code",
      "source": [
        "# 44. Train a Stacking Classifier with Random Forest and Logistic Regression and compare accuracy\n",
        "\n",
        "from sklearn.datasets import load_iris\n",
        "from sklearn.ensemble import StackingClassifier, RandomForestClassifier\n",
        "from sklearn.linear_model import LogisticRegression\n",
        "from sklearn.model_selection import train_test_split\n",
        "from sklearn.metrics import accuracy_score\n",
        "\n",
        "data = load_iris()\n",
        "X_train, X_test, y_train, y_test = train_test_split(data.data, data.target, test_size=0.2, random_state=42)\n",
        "\n",
        "base_models = [\n",
        "    ('rf', RandomForestClassifier(n_estimators=100, random_state=42))\n",
        "]\n",
        "stack = StackingClassifier(estimators=base_models, final_estimator=LogisticRegression())\n",
        "\n",
        "stack.fit(X_train, y_train)\n",
        "y_pred = stack.predict(X_test)\n",
        "\n",
        "print(\"Stacking Classifier Accuracy:\", accuracy_score(y_test, y_pred))\n"
      ],
      "metadata": {
        "colab": {
          "base_uri": "https://localhost:8080/"
        },
        "id": "6c5FDCQOXYpW",
        "outputId": "85cb3829-6357-442a-d3f6-c94a82713835"
      },
      "execution_count": 37,
      "outputs": [
        {
          "output_type": "stream",
          "name": "stdout",
          "text": [
            "Stacking Classifier Accuracy: 1.0\n"
          ]
        }
      ]
    },
    {
      "cell_type": "code",
      "source": [
        "# 45. Train a Bagging Regressor with different levels of bootstrap samples and compare performance\n",
        "from sklearn.datasets import load_diabetes\n",
        "from sklearn.ensemble import BaggingRegressor\n",
        "from sklearn.tree import DecisionTreeRegressor\n",
        "from sklearn.model_selection import train_test_split\n",
        "from sklearn.metrics import mean_squared_error\n",
        "\n",
        "data = load_diabetes()\n",
        "X_train, X_test, y_train, y_test = train_test_split(data.data, data.target, test_size=0.2, random_state=42)\n",
        "\n",
        "for bootstrap in [True, False]:\n",
        "    model = BaggingRegressor(estimator=DecisionTreeRegressor(), n_estimators=50, bootstrap=bootstrap, random_state=42)\n",
        "    model.fit(X_train, y_train)\n",
        "    preds = model.predict(X_test)\n",
        "    mse = mean_squared_error(y_test, preds)\n",
        "    print(f\"Bootstrap: {bootstrap}, MSE: {mse:.2f}\")\n"
      ],
      "metadata": {
        "colab": {
          "base_uri": "https://localhost:8080/"
        },
        "id": "ZndjMutTXf4g",
        "outputId": "bcae1af3-32fa-4de5-d486-0afbefbaa255"
      },
      "execution_count": 40,
      "outputs": [
        {
          "output_type": "stream",
          "name": "stdout",
          "text": [
            "Bootstrap: True, MSE: 3056.49\n",
            "Bootstrap: False, MSE: 4542.15\n"
          ]
        }
      ]
    }
  ]
}